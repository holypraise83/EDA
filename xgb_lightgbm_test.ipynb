{
 "cells": [
  {
   "cell_type": "markdown",
   "metadata": {},
   "source": [
    "# EDA"
   ]
  },
  {
   "cell_type": "code",
   "execution_count": 2,
   "metadata": {},
   "outputs": [],
   "source": [
    "import pandas as pd\n",
    "import numpy as np\n",
    "import sweetviz"
   ]
  },
  {
   "cell_type": "code",
   "execution_count": 3,
   "metadata": {},
   "outputs": [],
   "source": [
    "import lightgbm"
   ]
  },
  {
   "cell_type": "code",
   "execution_count": 1,
   "metadata": {},
   "outputs": [
    {
     "name": "stdout",
     "output_type": "stream",
     "text": [
      "make classification ...\n",
      "X_train shape: (700000, 50)\n",
      "Train LGBM classifier ...\n",
      "LGBM Training ran in 4.30271 seconds\n",
      "Test Accuracy: 0.96\n",
      "Train XGB classifier ...\n",
      "XGB Training ran in 4.23843 seconds\n",
      "Test Accuracy: 0.96\n"
     ]
    }
   ],
   "source": [
    "import numpy as np\n",
    "from sklearn.datasets import make_classification\n",
    "from sklearn.model_selection import train_test_split\n",
    "from sklearn.metrics import accuracy_score\n",
    "import time\n",
    "from lightgbm import LGBMClassifier\n",
    "from xgboost import XGBClassifier\n",
    "print('make classification ...')\n",
    "X,y = make_classification(n_samples=1000000,\n",
    "                         n_features=50,\n",
    "                         n_informative=30,\n",
    "                         n_redundant=5,\n",
    "                         n_repeated=0,\n",
    "                         n_classes=2,\n",
    "                         n_clusters_per_class=2,\n",
    "                         class_sep=1,\n",
    "                         flip_y=0.01,\n",
    "                         weights=[0.5,0.5],\n",
    "                         random_state=17)\n",
    "X_train, X_test, y_train, y_test = train_test_split(X,y,test_size=0.3,random_state=1000)\n",
    "print(f'X_train shape: {X_train.shape}')\n",
    "print(f'Train LGBM classifier ...')\n",
    "clf = LGBMClassifier(n_estimators=100,\n",
    "                     num_leaves=64,\n",
    "                     max_depth=5,\n",
    "                     learning_rate=0.1,\n",
    "                     random_state=1000,\n",
    "                     n_jobs=-1)\n",
    "start = time.time()\n",
    "clf.fit(X_train,y_train)\n",
    "elapsed = time.time() - start\n",
    "print(f'LGBM Training ran in {elapsed:.5f} seconds')\n",
    "y_pred = clf.predict(X_test)\n",
    "print(f'Test Accuracy: {accuracy_score(y_test,y_pred):.2f}')\n",
    "print(f'Train XGB classifier ...')\n",
    "clf = XGBClassifier(n_estimators=100,\n",
    "                     max_depth=5,\n",
    "                     max_leaves=64,\n",
    "                     eta=0.1,\n",
    "                     reg_lambda=0,\n",
    "                     tree_method='hist',\n",
    "                     eval_metric='logloss',\n",
    "                     use_label_encoder=False,\n",
    "                     random_state=1000,\n",
    "                     n_jobs=-1)\n",
    "start = time.time()\n",
    "clf.fit(X_train,y_train)\n",
    "elapsed = time.time() - start\n",
    "print(f'XGB Training ran in {elapsed:.5f} seconds')\n",
    "y_pred = clf.predict(X_test)\n",
    "print(f'Test Accuracy: {accuracy_score(y_test,y_pred):.2f}')"
   ]
  },
  {
   "cell_type": "code",
   "execution_count": 2,
   "metadata": {},
   "outputs": [
    {
     "data": {
      "text/plain": [
       "array([1, 1, 0, ..., 1, 0, 0])"
      ]
     },
     "execution_count": 2,
     "metadata": {},
     "output_type": "execute_result"
    }
   ],
   "source": [
    "y"
   ]
  },
  {
   "cell_type": "code",
   "execution_count": 4,
   "metadata": {},
   "outputs": [
    {
     "name": "stdout",
     "output_type": "stream",
     "text": [
      "1000000\n",
      "500006\n"
     ]
    }
   ],
   "source": [
    "print(len(y))\n",
    "print(sum(y))"
   ]
  },
  {
   "cell_type": "code",
   "execution_count": null,
   "metadata": {},
   "outputs": [],
   "source": []
  }
 ],
 "metadata": {
  "interpreter": {
   "hash": "0f39154cd3256f3f5d7f834ca9c39ddb6b1afcfb60fe7c46245a9be9405c1395"
  },
  "kernelspec": {
   "display_name": "Python 3.8.12 64-bit ('eda': conda)",
   "name": "python3"
  },
  "language_info": {
   "codemirror_mode": {
    "name": "ipython",
    "version": 3
   },
   "file_extension": ".py",
   "mimetype": "text/x-python",
   "name": "python",
   "nbconvert_exporter": "python",
   "pygments_lexer": "ipython3",
   "version": "3.8.12"
  },
  "orig_nbformat": 4
 },
 "nbformat": 4,
 "nbformat_minor": 2
}